{
 "cells": [
  {
   "cell_type": "code",
   "execution_count": 1,
   "metadata": {
    "collapsed": false
   },
   "outputs": [
    {
     "name": "stdout",
     "output_type": "stream",
     "text": [
      "Populating the interactive namespace from numpy and matplotlib\n"
     ]
    }
   ],
   "source": [
    "%pylab inline\n",
    "%load_ext autoreload\n",
    "%autoreload 2"
   ]
  },
  {
   "cell_type": "code",
   "execution_count": 2,
   "metadata": {
    "collapsed": true
   },
   "outputs": [],
   "source": [
    "import pandas as pd"
   ]
  },
  {
   "cell_type": "code",
   "execution_count": 3,
   "metadata": {
    "collapsed": false
   },
   "outputs": [],
   "source": [
    "filename = 'data/vincent/accelerometer_5second/__016563_2014-08-08 12-02-19.bin_day1.csv'\n",
    "data = pd.read_csv(filename, index_col='timestamp', parse_dates=True)"
   ]
  },
  {
   "cell_type": "code",
   "execution_count": 4,
   "metadata": {
    "collapsed": false
   },
   "outputs": [
    {
     "data": {
      "text/html": [
       "<div>\n",
       "<table border=\"1\" class=\"dataframe\">\n",
       "  <thead>\n",
       "    <tr style=\"text-align: right;\">\n",
       "      <th></th>\n",
       "      <th>acceleration</th>\n",
       "      <th>anglex</th>\n",
       "      <th>angley</th>\n",
       "      <th>anglez</th>\n",
       "      <th>invalid</th>\n",
       "    </tr>\n",
       "    <tr>\n",
       "      <th>timestamp</th>\n",
       "      <th></th>\n",
       "      <th></th>\n",
       "      <th></th>\n",
       "      <th></th>\n",
       "      <th></th>\n",
       "    </tr>\n",
       "  </thead>\n",
       "  <tbody>\n",
       "    <tr>\n",
       "      <th>2014-08-01 04:00:00</th>\n",
       "      <td>0.014778</td>\n",
       "      <td>27.403869</td>\n",
       "      <td>39.648207</td>\n",
       "      <td>-38.117174</td>\n",
       "      <td>0</td>\n",
       "    </tr>\n",
       "    <tr>\n",
       "      <th>2014-08-01 04:00:05</th>\n",
       "      <td>0.014978</td>\n",
       "      <td>27.407743</td>\n",
       "      <td>39.603882</td>\n",
       "      <td>-38.158723</td>\n",
       "      <td>0</td>\n",
       "    </tr>\n",
       "    <tr>\n",
       "      <th>2014-08-01 04:00:10</th>\n",
       "      <td>0.013872</td>\n",
       "      <td>27.428900</td>\n",
       "      <td>39.538962</td>\n",
       "      <td>-38.206537</td>\n",
       "      <td>0</td>\n",
       "    </tr>\n",
       "    <tr>\n",
       "      <th>2014-08-01 04:00:15</th>\n",
       "      <td>0.015469</td>\n",
       "      <td>27.417167</td>\n",
       "      <td>39.553611</td>\n",
       "      <td>-38.201570</td>\n",
       "      <td>0</td>\n",
       "    </tr>\n",
       "    <tr>\n",
       "      <th>2014-08-01 04:00:20</th>\n",
       "      <td>0.014622</td>\n",
       "      <td>27.420342</td>\n",
       "      <td>39.680349</td>\n",
       "      <td>-38.070763</td>\n",
       "      <td>0</td>\n",
       "    </tr>\n",
       "    <tr>\n",
       "      <th>2014-08-01 04:00:25</th>\n",
       "      <td>0.014653</td>\n",
       "      <td>27.416003</td>\n",
       "      <td>39.569062</td>\n",
       "      <td>-38.186979</td>\n",
       "      <td>0</td>\n",
       "    </tr>\n",
       "    <tr>\n",
       "      <th>2014-08-01 04:00:30</th>\n",
       "      <td>0.015118</td>\n",
       "      <td>27.413793</td>\n",
       "      <td>39.574222</td>\n",
       "      <td>-38.183626</td>\n",
       "      <td>0</td>\n",
       "    </tr>\n",
       "    <tr>\n",
       "      <th>2014-08-01 04:00:35</th>\n",
       "      <td>0.014717</td>\n",
       "      <td>27.430463</td>\n",
       "      <td>39.631316</td>\n",
       "      <td>-38.111813</td>\n",
       "      <td>0</td>\n",
       "    </tr>\n",
       "    <tr>\n",
       "      <th>2014-08-01 04:00:40</th>\n",
       "      <td>0.014902</td>\n",
       "      <td>27.473754</td>\n",
       "      <td>39.548319</td>\n",
       "      <td>-38.159240</td>\n",
       "      <td>0</td>\n",
       "    </tr>\n",
       "    <tr>\n",
       "      <th>2014-08-01 04:00:45</th>\n",
       "      <td>0.015338</td>\n",
       "      <td>27.462084</td>\n",
       "      <td>39.457267</td>\n",
       "      <td>-38.261147</td>\n",
       "      <td>0</td>\n",
       "    </tr>\n",
       "  </tbody>\n",
       "</table>\n",
       "</div>"
      ],
      "text/plain": [
       "                     acceleration     anglex     angley     anglez  invalid\n",
       "timestamp                                                                  \n",
       "2014-08-01 04:00:00      0.014778  27.403869  39.648207 -38.117174        0\n",
       "2014-08-01 04:00:05      0.014978  27.407743  39.603882 -38.158723        0\n",
       "2014-08-01 04:00:10      0.013872  27.428900  39.538962 -38.206537        0\n",
       "2014-08-01 04:00:15      0.015469  27.417167  39.553611 -38.201570        0\n",
       "2014-08-01 04:00:20      0.014622  27.420342  39.680349 -38.070763        0\n",
       "2014-08-01 04:00:25      0.014653  27.416003  39.569062 -38.186979        0\n",
       "2014-08-01 04:00:30      0.015118  27.413793  39.574222 -38.183626        0\n",
       "2014-08-01 04:00:35      0.014717  27.430463  39.631316 -38.111813        0\n",
       "2014-08-01 04:00:40      0.014902  27.473754  39.548319 -38.159240        0\n",
       "2014-08-01 04:00:45      0.015338  27.462084  39.457267 -38.261147        0"
      ]
     },
     "execution_count": 4,
     "metadata": {},
     "output_type": "execute_result"
    }
   ],
   "source": [
    "data.head(10)"
   ]
  },
  {
   "cell_type": "code",
   "execution_count": 5,
   "metadata": {
    "collapsed": false
   },
   "outputs": [
    {
     "data": {
      "text/plain": [
       "DatetimeIndex(['2014-08-01 04:00:00', '2014-08-01 04:00:05',\n",
       "               '2014-08-01 04:00:10', '2014-08-01 04:00:15',\n",
       "               '2014-08-01 04:00:20', '2014-08-01 04:00:25',\n",
       "               '2014-08-01 04:00:30', '2014-08-01 04:00:35',\n",
       "               '2014-08-01 04:00:40', '2014-08-01 04:00:45', \n",
       "               ...\n",
       "               '2014-08-02 03:59:10', '2014-08-02 03:59:15',\n",
       "               '2014-08-02 03:59:20', '2014-08-02 03:59:25',\n",
       "               '2014-08-02 03:59:30', '2014-08-02 03:59:35',\n",
       "               '2014-08-02 03:59:40', '2014-08-02 03:59:45',\n",
       "               '2014-08-02 03:59:50', '2014-08-02 03:59:55'],\n",
       "              dtype='datetime64[ns]', name=u'timestamp', length=17280, freq=None, tz=None)"
      ]
     },
     "execution_count": 5,
     "metadata": {},
     "output_type": "execute_result"
    }
   ],
   "source": [
    "data.index"
   ]
  },
  {
   "cell_type": "code",
   "execution_count": 6,
   "metadata": {
    "collapsed": false
   },
   "outputs": [
    {
     "data": {
      "image/png": "[encoded data removed]",
      "text/plain": [
       "<matplotlib.figure.Figure at 0x7f819a894f50>"
      ]
     },
     "metadata": {},
     "output_type": "display_data"
    }
   ],
   "source": [
    "data['acceleration'].plot()\n",
    "xticks(rotation=45);"
   ]
  },
  {
   "cell_type": "code",
   "execution_count": 7,
   "metadata": {
    "collapsed": false
   },
   "outputs": [],
   "source": [
    "data['temperature'] = data['acceleration']\n",
    "data['date_time'] = data.index"
   ]
  },
  {
   "cell_type": "code",
   "execution_count": 8,
   "metadata": {
    "collapsed": false
   },
   "outputs": [],
   "source": [
    "data.to_json(path_or_buf='eEcology-Annotation-UI-nobuild/tracker.json', orient='records')"
   ]
  },
  {
   "cell_type": "code",
   "execution_count": 9,
   "metadata": {
    "collapsed": false
   },
   "outputs": [
    {
     "data": {
      "image/png": "[encoded data removed]",
      "text/plain": [
       "<matplotlib.figure.Figure at 0x7f819a894990>"
      ]
     },
     "metadata": {},
     "output_type": "display_data"
    }
   ],
   "source": [
    "data_r = data.resample('5Min', how='sum')\n",
    "\n",
    "data_r['acceleration'].plot()\n",
    "xticks(rotation=45);"
   ]
  },
  {
   "cell_type": "markdown",
   "metadata": {},
   "source": [
    "# Merge data from patients and annotation"
   ]
  },
  {
   "cell_type": "code",
   "execution_count": 13,
   "metadata": {
    "collapsed": false
   },
   "outputs": [],
   "source": [
    "annotations = pd.read_csv('data/vincent/data_annotations.csv')"
   ]
  },
  {
   "cell_type": "code",
   "execution_count": 14,
   "metadata": {
    "collapsed": false
   },
   "outputs": [],
   "source": [
    "fileAnnotations = annotations[annotations['filename']=='__016563_2014-08-08 12-02-19.bin_day1.RData']"
   ]
  },
  {
   "cell_type": "code",
   "execution_count": null,
   "metadata": {
    "collapsed": false
   },
   "outputs": [],
   "source": [
    "for row in fileAnnotations[['ddate1', 'stime', 'etime', 'activity', 'filename']].as_matrix():\n",
    "    rStartStr = row[0].strip() + ' ' + row[1].strip()\n",
    "    rStart = dt.datetime.strptime(rStartStr, '%d/%m/%Y %H:%M:%S')\n",
    "\n",
    "    rEndStr = row[0].strip() + ' ' + row[2].strip()\n",
    "    rEnd = dt.datetime.strptime(rEndStr, '%d/%m/%Y %H:%M:%S')\n",
    "\n",
    "    data.loc[(data.index < rEnd) & (data.index > rStart), 'Activity'] = row[3]"
   ]
  },
  {
   "cell_type": "code",
   "execution_count": null,
   "metadata": {
    "collapsed": true
   },
   "outputs": [],
   "source": []
  },
  {
   "cell_type": "code",
   "execution_count": 17,
   "metadata": {
    "collapsed": true
   },
   "outputs": [],
   "source": [
    "def loadData(name):\n",
    "    try:\n",
    "        name = name.replace('RData', 'csv')\n",
    "        filename = 'data/vincent/accelerometer_5second/' + name\n",
    "        data = pd.read_csv(filename, index_col='timestamp', parse_dates=True)\n",
    "        return data\n",
    "    except:\n",
    "        # print 'Fine not found: ',name\n",
    "        return None"
   ]
  },
  {
   "cell_type": "code",
   "execution_count": 18,
   "metadata": {
    "collapsed": true
   },
   "outputs": [],
   "source": [
    "def parseDate(dateStr):\n",
    "    try:\n",
    "        return dt.datetime.strptime(dateStr, '%d/%m/%Y %H:%M:%S')\n",
    "    except:\n",
    "        # hack -- \n",
    "        dateStr = dateStr.replace('24:','00:')\n",
    "        dateStr = dateStr.replace('25:','01:')\n",
    "        dateStr = dateStr.replace('27:','03:')\n",
    "        return dt.datetime.strptime(dateStr, '%d/%m/%Y %H:%M:%S')\n",
    "\n",
    "def addAnnotations(data, fileAnnotations):\n",
    "    for row in fileAnnotations[['ddate1', 'stime', 'etime', 'activity', 'filename']].as_matrix():\n",
    "        rStart = parseDate(row[0].strip() + ' ' + row[1].strip())\n",
    "        rEnd   = parseDate(row[0].strip() + ' ' + row[2].strip())\n",
    "        data.loc[(data.index < rEnd) & (data.index > rStart), 'Activity'] = row[3]\n",
    "        \n",
    "    return data"
   ]
  },
  {
   "cell_type": "code",
   "execution_count": 19,
   "metadata": {
    "collapsed": false
   },
   "outputs": [],
   "source": [
    "byName = annotations.groupby('filename')\n",
    "for name, fileAnnotations in byName:\n",
    "    # Load data\n",
    "    df = loadData(name)\n",
    "    \n",
    "    if df is not None:    \n",
    "        # Add annotations\n",
    "        df = addAnnotations(df, fileAnnotations)\n",
    "\n",
    "        # Save file\n",
    "        df.to_csv('data/vincent/merged/' + name.replace('RData','csv'))"
   ]
  },
  {
   "cell_type": "markdown",
   "metadata": {},
   "source": [
    "# Load data from asimilated patients"
   ]
  },
  {
   "cell_type": "code",
   "execution_count": 20,
   "metadata": {
    "collapsed": true
   },
   "outputs": [],
   "source": [
    "# filename = 'data/vincent/merged/__016570_2014-08-12 15-23-30.bin_day1.csv'\n",
    "filename = 'data/vincent/merged/__018643_2014-07-30 15-07-46.bin_day1.csv'\n",
    "df = pd.read_csv(filename, index_col='timestamp', parse_dates=True)"
   ]
  },
  {
   "cell_type": "code",
   "execution_count": 21,
   "metadata": {
    "collapsed": false
   },
   "outputs": [
    {
     "data": {
      "text/html": [
       "<div>\n",
       "<table border=\"1\" class=\"dataframe\">\n",
       "  <thead>\n",
       "    <tr style=\"text-align: right;\">\n",
       "      <th></th>\n",
       "      <th>acceleration</th>\n",
       "      <th>anglex</th>\n",
       "      <th>angley</th>\n",
       "      <th>anglez</th>\n",
       "      <th>invalid</th>\n",
       "      <th>Activity</th>\n",
       "    </tr>\n",
       "    <tr>\n",
       "      <th>timestamp</th>\n",
       "      <th></th>\n",
       "      <th></th>\n",
       "      <th></th>\n",
       "      <th></th>\n",
       "      <th></th>\n",
       "      <th></th>\n",
       "    </tr>\n",
       "  </thead>\n",
       "  <tbody>\n",
       "    <tr>\n",
       "      <th>2014-07-23 04:00:00</th>\n",
       "      <td>0.004112</td>\n",
       "      <td>-78.420989</td>\n",
       "      <td>6.355486</td>\n",
       "      <td>-9.638339</td>\n",
       "      <td>0</td>\n",
       "      <td>NaN</td>\n",
       "    </tr>\n",
       "    <tr>\n",
       "      <th>2014-07-23 04:00:05</th>\n",
       "      <td>0.003581</td>\n",
       "      <td>-78.404221</td>\n",
       "      <td>6.386509</td>\n",
       "      <td>-9.637757</td>\n",
       "      <td>0</td>\n",
       "      <td>Sleepingandresting(includingsickinbed)</td>\n",
       "    </tr>\n",
       "    <tr>\n",
       "      <th>2014-07-23 04:00:10</th>\n",
       "      <td>0.004212</td>\n",
       "      <td>-78.389250</td>\n",
       "      <td>6.414209</td>\n",
       "      <td>-9.637237</td>\n",
       "      <td>0</td>\n",
       "      <td>Sleepingandresting(includingsickinbed)</td>\n",
       "    </tr>\n",
       "    <tr>\n",
       "      <th>2014-07-23 04:00:15</th>\n",
       "      <td>0.004123</td>\n",
       "      <td>-78.478347</td>\n",
       "      <td>6.242389</td>\n",
       "      <td>-9.644912</td>\n",
       "      <td>0</td>\n",
       "      <td>Sleepingandresting(includingsickinbed)</td>\n",
       "    </tr>\n",
       "    <tr>\n",
       "      <th>2014-07-23 04:00:20</th>\n",
       "      <td>0.003927</td>\n",
       "      <td>-78.395513</td>\n",
       "      <td>6.400891</td>\n",
       "      <td>-9.638600</td>\n",
       "      <td>0</td>\n",
       "      <td>Sleepingandresting(includingsickinbed)</td>\n",
       "    </tr>\n",
       "  </tbody>\n",
       "</table>\n",
       "</div>"
      ],
      "text/plain": [
       "                     acceleration     anglex    angley    anglez  invalid  \\\n",
       "timestamp                                                                   \n",
       "2014-07-23 04:00:00      0.004112 -78.420989  6.355486 -9.638339        0   \n",
       "2014-07-23 04:00:05      0.003581 -78.404221  6.386509 -9.637757        0   \n",
       "2014-07-23 04:00:10      0.004212 -78.389250  6.414209 -9.637237        0   \n",
       "2014-07-23 04:00:15      0.004123 -78.478347  6.242389 -9.644912        0   \n",
       "2014-07-23 04:00:20      0.003927 -78.395513  6.400891 -9.638600        0   \n",
       "\n",
       "                                                   Activity  \n",
       "timestamp                                                    \n",
       "2014-07-23 04:00:00                                     NaN  \n",
       "2014-07-23 04:00:05  Sleepingandresting(includingsickinbed)  \n",
       "2014-07-23 04:00:10  Sleepingandresting(includingsickinbed)  \n",
       "2014-07-23 04:00:15  Sleepingandresting(includingsickinbed)  \n",
       "2014-07-23 04:00:20  Sleepingandresting(includingsickinbed)  "
      ]
     },
     "execution_count": 21,
     "metadata": {},
     "output_type": "execute_result"
    }
   ],
   "source": [
    "df.head(5)"
   ]
  },
  {
   "cell_type": "code",
   "execution_count": 12,
   "metadata": {
    "collapsed": false
   },
   "outputs": [
    {
     "data": {
      "image/png": "[encoded data removed]",
      "text/plain": [
       "<matplotlib.figure.Figure at 0x7f8199f80b50>"
      ]
     },
     "metadata": {},
     "output_type": "display_data"
    }
   ],
   "source": [
    "byAct = df.groupby('Activity')\n",
    "for act,dfa in byAct:\n",
    "    dfa['acceleration'].plot(label=act)\n",
    "#legend();"
   ]
  },
  {
   "cell_type": "code",
   "execution_count": 15,
   "metadata": {
    "collapsed": false
   },
   "outputs": [],
   "source": [
    "df['datetime'] = df.index\n",
    "df['datetime'] = df['datetime'].apply(lambda x: dt.datetime.strftime(x, '%Y-%m-%d %H:%M:%S'))\n",
    "df.to_json('user2.json', orient='records')\n",
    "#df.head(10).to_json(orient='records')"
   ]
  },
  {
   "cell_type": "markdown",
   "metadata": {},
   "source": [
    "# Merge data from all"
   ]
  },
  {
   "cell_type": "code",
   "execution_count": 22,
   "metadata": {
    "collapsed": true
   },
   "outputs": [],
   "source": [
    "from glob import glob"
   ]
  },
  {
   "cell_type": "code",
   "execution_count": 23,
   "metadata": {
    "collapsed": false
   },
   "outputs": [],
   "source": [
    "def shiftTS(df, startTime):\n",
    "    myMin = df['timestamp'].min()\n",
    "    df['delta'] = df['timestamp'] - myMin\n",
    "    df['timestamp'] = df['delta'] + startTime\n",
    "    return df"
   ]
  },
  {
   "cell_type": "code",
   "execution_count": 54,
   "metadata": {
    "collapsed": false
   },
   "outputs": [],
   "source": [
    "mergedDF = None\n",
    "for filename in glob('data/vincent/merged/*.csv'):\n",
    "    df = pd.read_csv(filename, parse_dates=['timestamp'])\n",
    "    if mergedDF is None:\n",
    "        mergedDF = df\n",
    "    else:\n",
    "        shiftTS(df, mergedDF['timestamp'].max())\n",
    "        mergedDF = pd.concat([mergedDF, df])"
   ]
  },
  {
   "cell_type": "code",
   "execution_count": 55,
   "metadata": {
    "collapsed": false,
    "scrolled": true
   },
   "outputs": [
    {
     "data": {
      "image/png": "[encoded data removed]",
      "text/plain": [
       "<matplotlib.figure.Figure at 0x7f98ba767390>"
      ]
     },
     "metadata": {},
     "output_type": "display_data"
    }
   ],
   "source": [
    "mergedDF = mergedDF.set_index('timestamp')\n",
    "mergedDF['acceleration'].plot()\n",
    "mergedDF['datetime'] = mergedDF.index"
   ]
  },
  {
   "cell_type": "code",
   "execution_count": 56,
   "metadata": {
    "collapsed": false
   },
   "outputs": [
    {
     "data": {
      "text/html": [
       "<div>\n",
       "<table border=\"1\" class=\"dataframe\">\n",
       "  <thead>\n",
       "    <tr style=\"text-align: right;\">\n",
       "      <th></th>\n",
       "      <th>Activity</th>\n",
       "      <th>acceleration</th>\n",
       "      <th>anglex</th>\n",
       "      <th>angley</th>\n",
       "      <th>anglez</th>\n",
       "      <th>delta</th>\n",
       "      <th>invalid</th>\n",
       "      <th>datetime</th>\n",
       "    </tr>\n",
       "    <tr>\n",
       "      <th>timestamp</th>\n",
       "      <th></th>\n",
       "      <th></th>\n",
       "      <th></th>\n",
       "      <th></th>\n",
       "      <th></th>\n",
       "      <th></th>\n",
       "      <th></th>\n",
       "      <th></th>\n",
       "    </tr>\n",
       "  </thead>\n",
       "  <tbody>\n",
       "    <tr>\n",
       "      <th>2014-07-15 04:00:00</th>\n",
       "      <td>WatchTV,DVDs,downloadedvideos</td>\n",
       "      <td>0.001139</td>\n",
       "      <td>-52.219093</td>\n",
       "      <td>31.982310</td>\n",
       "      <td>-17.932031</td>\n",
       "      <td>NaT</td>\n",
       "      <td>0</td>\n",
       "      <td>2014-07-15 04:00:00</td>\n",
       "    </tr>\n",
       "    <tr>\n",
       "      <th>2014-07-15 04:00:05</th>\n",
       "      <td>WatchTV,DVDs,downloadedvideos</td>\n",
       "      <td>0.001413</td>\n",
       "      <td>-52.169288</td>\n",
       "      <td>32.041719</td>\n",
       "      <td>-17.923120</td>\n",
       "      <td>NaT</td>\n",
       "      <td>0</td>\n",
       "      <td>2014-07-15 04:00:05</td>\n",
       "    </tr>\n",
       "    <tr>\n",
       "      <th>2014-07-15 04:00:10</th>\n",
       "      <td>WatchTV,DVDs,downloadedvideos</td>\n",
       "      <td>0.001318</td>\n",
       "      <td>-52.246065</td>\n",
       "      <td>31.960574</td>\n",
       "      <td>-17.920761</td>\n",
       "      <td>NaT</td>\n",
       "      <td>0</td>\n",
       "      <td>2014-07-15 04:00:10</td>\n",
       "    </tr>\n",
       "    <tr>\n",
       "      <th>2014-07-15 04:00:15</th>\n",
       "      <td>WatchTV,DVDs,downloadedvideos</td>\n",
       "      <td>0.001349</td>\n",
       "      <td>-52.181592</td>\n",
       "      <td>32.028817</td>\n",
       "      <td>-17.922608</td>\n",
       "      <td>NaT</td>\n",
       "      <td>0</td>\n",
       "      <td>2014-07-15 04:00:15</td>\n",
       "    </tr>\n",
       "    <tr>\n",
       "      <th>2014-07-15 04:00:20</th>\n",
       "      <td>WatchTV,DVDs,downloadedvideos</td>\n",
       "      <td>0.001737</td>\n",
       "      <td>-52.270592</td>\n",
       "      <td>31.950930</td>\n",
       "      <td>-17.894898</td>\n",
       "      <td>NaT</td>\n",
       "      <td>0</td>\n",
       "      <td>2014-07-15 04:00:20</td>\n",
       "    </tr>\n",
       "  </tbody>\n",
       "</table>\n",
       "</div>"
      ],
      "text/plain": [
       "                                          Activity  acceleration     anglex  \\\n",
       "timestamp                                                                     \n",
       "2014-07-15 04:00:00  WatchTV,DVDs,downloadedvideos      0.001139 -52.219093   \n",
       "2014-07-15 04:00:05  WatchTV,DVDs,downloadedvideos      0.001413 -52.169288   \n",
       "2014-07-15 04:00:10  WatchTV,DVDs,downloadedvideos      0.001318 -52.246065   \n",
       "2014-07-15 04:00:15  WatchTV,DVDs,downloadedvideos      0.001349 -52.181592   \n",
       "2014-07-15 04:00:20  WatchTV,DVDs,downloadedvideos      0.001737 -52.270592   \n",
       "\n",
       "                        angley     anglez  delta  invalid            datetime  \n",
       "timestamp                                                                      \n",
       "2014-07-15 04:00:00  31.982310 -17.932031    NaT        0 2014-07-15 04:00:00  \n",
       "2014-07-15 04:00:05  32.041719 -17.923120    NaT        0 2014-07-15 04:00:05  \n",
       "2014-07-15 04:00:10  31.960574 -17.920761    NaT        0 2014-07-15 04:00:10  \n",
       "2014-07-15 04:00:15  32.028817 -17.922608    NaT        0 2014-07-15 04:00:15  \n",
       "2014-07-15 04:00:20  31.950930 -17.894898    NaT        0 2014-07-15 04:00:20  "
      ]
     },
     "execution_count": 56,
     "metadata": {},
     "output_type": "execute_result"
    }
   ],
   "source": [
    "mergedDF.head(5)"
   ]
  },
  {
   "cell_type": "code",
   "execution_count": 74,
   "metadata": {
    "collapsed": false
   },
   "outputs": [
    {
     "ename": "AssertionError",
     "evalue": "length of join_axes must not be equal to 1",
     "output_type": "error",
     "traceback": [
      "\u001b[1;31m---------------------------------------------------------------------------\u001b[0m",
      "\u001b[1;31mAssertionError\u001b[0m                            Traceback (most recent call last)",
      "\u001b[1;32m<ipython-input-74-48c45f1b0d5d>\u001b[0m in \u001b[0;36m<module>\u001b[1;34m()\u001b[0m\n\u001b[0;32m      1\u001b[0m \u001b[1;31m# mergedDF = mergedDF.resample('1Min')\u001b[0m\u001b[1;33m\u001b[0m\u001b[1;33m\u001b[0m\u001b[0m\n\u001b[0;32m      2\u001b[0m \u001b[0mrs\u001b[0m \u001b[1;33m=\u001b[0m \u001b[0mmergedDF\u001b[0m\u001b[1;33m.\u001b[0m\u001b[0mresample\u001b[0m\u001b[1;33m(\u001b[0m\u001b[1;34m'1Min'\u001b[0m\u001b[1;33m)\u001b[0m\u001b[1;33m\u001b[0m\u001b[0m\n\u001b[1;32m----> 3\u001b[1;33m \u001b[0mpd\u001b[0m\u001b[1;33m.\u001b[0m\u001b[0mconcat\u001b[0m\u001b[1;33m(\u001b[0m\u001b[1;33m[\u001b[0m\u001b[0mrs\u001b[0m\u001b[1;33m,\u001b[0m \u001b[0mmergedDF\u001b[0m\u001b[1;33m]\u001b[0m\u001b[1;33m,\u001b[0m \u001b[0mjoin_axes\u001b[0m\u001b[1;33m=\u001b[0m\u001b[1;33m[\u001b[0m \u001b[0mrs\u001b[0m\u001b[1;33m.\u001b[0m\u001b[0mindex\u001b[0m\u001b[1;33m,\u001b[0m \u001b[0mmergedDF\u001b[0m\u001b[1;33m.\u001b[0m\u001b[0mindex\u001b[0m \u001b[1;33m]\u001b[0m\u001b[1;33m)\u001b[0m\u001b[1;33m\u001b[0m\u001b[0m\n\u001b[0m",
      "\u001b[1;32m/usr/lib64/python2.7/site-packages/pandas/tools/merge.pyc\u001b[0m in \u001b[0;36mconcat\u001b[1;34m(objs, axis, join, join_axes, ignore_index, keys, levels, names, verify_integrity, copy)\u001b[0m\n\u001b[0;32m    752\u001b[0m                        \u001b[0mkeys\u001b[0m\u001b[1;33m=\u001b[0m\u001b[0mkeys\u001b[0m\u001b[1;33m,\u001b[0m \u001b[0mlevels\u001b[0m\u001b[1;33m=\u001b[0m\u001b[0mlevels\u001b[0m\u001b[1;33m,\u001b[0m \u001b[0mnames\u001b[0m\u001b[1;33m=\u001b[0m\u001b[0mnames\u001b[0m\u001b[1;33m,\u001b[0m\u001b[1;33m\u001b[0m\u001b[0m\n\u001b[0;32m    753\u001b[0m                        \u001b[0mverify_integrity\u001b[0m\u001b[1;33m=\u001b[0m\u001b[0mverify_integrity\u001b[0m\u001b[1;33m,\u001b[0m\u001b[1;33m\u001b[0m\u001b[0m\n\u001b[1;32m--> 754\u001b[1;33m                        copy=copy)\n\u001b[0m\u001b[0;32m    755\u001b[0m     \u001b[1;32mreturn\u001b[0m \u001b[0mop\u001b[0m\u001b[1;33m.\u001b[0m\u001b[0mget_result\u001b[0m\u001b[1;33m(\u001b[0m\u001b[1;33m)\u001b[0m\u001b[1;33m\u001b[0m\u001b[0m\n\u001b[0;32m    756\u001b[0m \u001b[1;33m\u001b[0m\u001b[0m\n",
      "\u001b[1;32m/usr/lib64/python2.7/site-packages/pandas/tools/merge.pyc\u001b[0m in \u001b[0;36m__init__\u001b[1;34m(self, objs, axis, join, join_axes, keys, levels, names, ignore_index, verify_integrity, copy)\u001b[0m\n\u001b[0;32m    884\u001b[0m         \u001b[0mself\u001b[0m\u001b[1;33m.\u001b[0m\u001b[0mcopy\u001b[0m \u001b[1;33m=\u001b[0m \u001b[0mcopy\u001b[0m\u001b[1;33m\u001b[0m\u001b[0m\n\u001b[0;32m    885\u001b[0m \u001b[1;33m\u001b[0m\u001b[0m\n\u001b[1;32m--> 886\u001b[1;33m         \u001b[0mself\u001b[0m\u001b[1;33m.\u001b[0m\u001b[0mnew_axes\u001b[0m \u001b[1;33m=\u001b[0m \u001b[0mself\u001b[0m\u001b[1;33m.\u001b[0m\u001b[0m_get_new_axes\u001b[0m\u001b[1;33m(\u001b[0m\u001b[1;33m)\u001b[0m\u001b[1;33m\u001b[0m\u001b[0m\n\u001b[0m\u001b[0;32m    887\u001b[0m \u001b[1;33m\u001b[0m\u001b[0m\n\u001b[0;32m    888\u001b[0m     \u001b[1;32mdef\u001b[0m \u001b[0mget_result\u001b[0m\u001b[1;33m(\u001b[0m\u001b[0mself\u001b[0m\u001b[1;33m)\u001b[0m\u001b[1;33m:\u001b[0m\u001b[1;33m\u001b[0m\u001b[0m\n",
      "\u001b[1;32m/usr/lib64/python2.7/site-packages/pandas/tools/merge.pyc\u001b[0m in \u001b[0;36m_get_new_axes\u001b[1;34m(self)\u001b[0m\n\u001b[0;32m    948\u001b[0m             \u001b[1;32mif\u001b[0m \u001b[0mlen\u001b[0m\u001b[1;33m(\u001b[0m\u001b[0mself\u001b[0m\u001b[1;33m.\u001b[0m\u001b[0mjoin_axes\u001b[0m\u001b[1;33m)\u001b[0m \u001b[1;33m!=\u001b[0m \u001b[0mndim\u001b[0m \u001b[1;33m-\u001b[0m \u001b[1;36m1\u001b[0m\u001b[1;33m:\u001b[0m\u001b[1;33m\u001b[0m\u001b[0m\n\u001b[0;32m    949\u001b[0m                 raise AssertionError(\"length of join_axes must not be \"\n\u001b[1;32m--> 950\u001b[1;33m                                      \"equal to {0}\".format(ndim - 1))\n\u001b[0m\u001b[0;32m    951\u001b[0m \u001b[1;33m\u001b[0m\u001b[0m\n\u001b[0;32m    952\u001b[0m             \u001b[1;31m# ufff...\u001b[0m\u001b[1;33m\u001b[0m\u001b[1;33m\u001b[0m\u001b[0m\n",
      "\u001b[1;31mAssertionError\u001b[0m: length of join_axes must not be equal to 1"
     ]
    }
   ],
   "source": [
    "# mergedDF = mergedDF.resample('1Min')\n",
    "rs = mergedDF.resample('1Min')\n",
    "pd.concat([rs, mergedDF], join_axes=[ rs.index, mergedDF.index ])"
   ]
  },
  {
   "cell_type": "code",
   "execution_count": 61,
   "metadata": {
    "collapsed": false
   },
   "outputs": [
    {
     "data": {
      "text/plain": [
       "<matplotlib.axes._subplots.AxesSubplot at 0x7f98b96ea210>"
      ]
     },
     "execution_count": 61,
     "metadata": {},
     "output_type": "execute_result"
    },
    {
     "data": {
      "image/png": "[encoded data removed]",
      "text/plain": [
       "<matplotlib.figure.Figure at 0x7f98b388ab90>"
      ]
     },
     "metadata": {},
     "output_type": "display_data"
    }
   ],
   "source": [
    "mergedDF['acceleration'].plot()"
   ]
  },
  {
   "cell_type": "code",
   "execution_count": 39,
   "metadata": {
    "collapsed": false
   },
   "outputs": [
    {
     "data": {
      "text/html": [
       "<div>\n",
       "<table border=\"1\" class=\"dataframe\">\n",
       "  <thead>\n",
       "    <tr style=\"text-align: right;\">\n",
       "      <th></th>\n",
       "      <th>acceleration</th>\n",
       "      <th>anglex</th>\n",
       "      <th>angley</th>\n",
       "      <th>anglez</th>\n",
       "      <th>invalid</th>\n",
       "    </tr>\n",
       "    <tr>\n",
       "      <th>timestamp</th>\n",
       "      <th></th>\n",
       "      <th></th>\n",
       "      <th></th>\n",
       "      <th></th>\n",
       "      <th></th>\n",
       "    </tr>\n",
       "  </thead>\n",
       "  <tbody>\n",
       "    <tr>\n",
       "      <th>2014-07-15 04:00:00</th>\n",
       "      <td>0.001374</td>\n",
       "      <td>-52.217821</td>\n",
       "      <td>31.994375</td>\n",
       "      <td>-17.915532</td>\n",
       "      <td>0</td>\n",
       "    </tr>\n",
       "    <tr>\n",
       "      <th>2014-07-15 04:01:00</th>\n",
       "      <td>0.001357</td>\n",
       "      <td>-52.248440</td>\n",
       "      <td>31.966499</td>\n",
       "      <td>-17.907713</td>\n",
       "      <td>0</td>\n",
       "    </tr>\n",
       "    <tr>\n",
       "      <th>2014-07-15 04:02:00</th>\n",
       "      <td>0.001200</td>\n",
       "      <td>-52.320197</td>\n",
       "      <td>32.002585</td>\n",
       "      <td>-17.732016</td>\n",
       "      <td>0</td>\n",
       "    </tr>\n",
       "    <tr>\n",
       "      <th>2014-07-15 04:03:00</th>\n",
       "      <td>0.001161</td>\n",
       "      <td>-52.477915</td>\n",
       "      <td>32.043725</td>\n",
       "      <td>-17.403591</td>\n",
       "      <td>0</td>\n",
       "    </tr>\n",
       "    <tr>\n",
       "      <th>2014-07-15 04:04:00</th>\n",
       "      <td>0.001214</td>\n",
       "      <td>-52.537169</td>\n",
       "      <td>31.983811</td>\n",
       "      <td>-17.397668</td>\n",
       "      <td>0</td>\n",
       "    </tr>\n",
       "  </tbody>\n",
       "</table>\n",
       "</div>"
      ],
      "text/plain": [
       "                     acceleration     anglex     angley     anglez  invalid\n",
       "timestamp                                                                  \n",
       "2014-07-15 04:00:00      0.001374 -52.217821  31.994375 -17.915532        0\n",
       "2014-07-15 04:01:00      0.001357 -52.248440  31.966499 -17.907713        0\n",
       "2014-07-15 04:02:00      0.001200 -52.320197  32.002585 -17.732016        0\n",
       "2014-07-15 04:03:00      0.001161 -52.477915  32.043725 -17.403591        0\n",
       "2014-07-15 04:04:00      0.001214 -52.537169  31.983811 -17.397668        0"
      ]
     },
     "execution_count": 39,
     "metadata": {},
     "output_type": "execute_result"
    }
   ],
   "source": [
    "mergedDF.head(5)"
   ]
  },
  {
   "cell_type": "code",
   "execution_count": 62,
   "metadata": {
    "collapsed": false
   },
   "outputs": [],
   "source": [
    "mergedDF.to_json('sensor3.json', orient='records')"
   ]
  },
  {
   "cell_type": "code",
   "execution_count": 97,
   "metadata": {
    "collapsed": true
   },
   "outputs": [],
   "source": [
    "mergedDF.to_csv('sensor3.csv')"
   ]
  },
  {
   "cell_type": "markdown",
   "metadata": {},
   "source": [
    "# Import data from carlos"
   ]
  },
  {
   "cell_type": "code",
   "execution_count": 3,
   "metadata": {
    "collapsed": true
   },
   "outputs": [],
   "source": [
    "import datetime as dt"
   ]
  },
  {
   "cell_type": "code",
   "execution_count": 23,
   "metadata": {
    "collapsed": false
   },
   "outputs": [],
   "source": [
    "datafile2 = 'data/carlos/Cycling1.csv'\n",
    "df = pd.read_csv(datafile2, skiprows=2, sep='\\t')"
   ]
  },
  {
   "cell_type": "code",
   "execution_count": 37,
   "metadata": {
    "collapsed": false
   },
   "outputs": [],
   "source": [
    "with open(datafile2) as fin:\n",
    "    line = fin.readline()\n",
    "parts = line.split('\\t')\n",
    "offsetStr = parts[0]\n",
    "offset = dt.datetime.strptime(offsetStr, '%Y-%m-%d %H:%M:%S'),"
   ]
  },
  {
   "cell_type": "code",
   "execution_count": 47,
   "metadata": {
    "collapsed": false
   },
   "outputs": [
    {
     "data": {
      "text/plain": [
       "<matplotlib.axes._subplots.AxesSubplot at 0x7fe19d9156d0>"
      ]
     },
     "execution_count": 47,
     "metadata": {},
     "output_type": "execute_result"
    },
    {
     "data": {
      "image/png": "[encoded data removed]",
      "text/plain": [
       "<matplotlib.figure.Figure at 0x7fe19d3e7a50>"
      ]
     },
     "metadata": {},
     "output_type": "display_data"
    }
   ],
   "source": [
    "df['X'].plot()\n",
    "df['Y'].plot()\n",
    "df['Z'].plot()"
   ]
  },
  {
   "cell_type": "markdown",
   "metadata": {
    "collapsed": true
   },
   "source": [
    "# Lars data"
   ]
  },
  {
   "cell_type": "code",
   "execution_count": 11,
   "metadata": {
    "collapsed": false
   },
   "outputs": [],
   "source": [
    "data = pd.read_csv('../ms-vis/data/lars.accelerometor.txt', skiprows=8, skip_footer=2, sep=' ')\n",
    "data.columns = [ 'X', 'Y', 'Z', 'Delta']"
   ]
  },
  {
   "cell_type": "code",
   "execution_count": 12,
   "metadata": {
    "collapsed": false
   },
   "outputs": [
    {
     "data": {
      "text/html": [
       "<div>\n",
       "<table border=\"1\" class=\"dataframe\">\n",
       "  <thead>\n",
       "    <tr style=\"text-align: right;\">\n",
       "      <th></th>\n",
       "      <th>X</th>\n",
       "      <th>Y</th>\n",
       "      <th>Z</th>\n",
       "      <th>Delta</th>\n",
       "    </tr>\n",
       "  </thead>\n",
       "  <tbody>\n",
       "    <tr>\n",
       "      <th>0</th>\n",
       "      <td>0.064</td>\n",
       "      <td>-0.121</td>\n",
       "      <td>0.120</td>\n",
       "      <td>201</td>\n",
       "    </tr>\n",
       "    <tr>\n",
       "      <th>1</th>\n",
       "      <td>0.044</td>\n",
       "      <td>-0.083</td>\n",
       "      <td>0.000</td>\n",
       "      <td>201</td>\n",
       "    </tr>\n",
       "    <tr>\n",
       "      <th>2</th>\n",
       "      <td>0.094</td>\n",
       "      <td>-0.256</td>\n",
       "      <td>0.257</td>\n",
       "      <td>202</td>\n",
       "    </tr>\n",
       "    <tr>\n",
       "      <th>3</th>\n",
       "      <td>-0.058</td>\n",
       "      <td>-0.094</td>\n",
       "      <td>0.065</td>\n",
       "      <td>201</td>\n",
       "    </tr>\n",
       "    <tr>\n",
       "      <th>4</th>\n",
       "      <td>-0.004</td>\n",
       "      <td>-0.207</td>\n",
       "      <td>0.168</td>\n",
       "      <td>202</td>\n",
       "    </tr>\n",
       "    <tr>\n",
       "      <th>5</th>\n",
       "      <td>-0.110</td>\n",
       "      <td>-0.308</td>\n",
       "      <td>0.236</td>\n",
       "      <td>201</td>\n",
       "    </tr>\n",
       "    <tr>\n",
       "      <th>6</th>\n",
       "      <td>-0.288</td>\n",
       "      <td>-0.183</td>\n",
       "      <td>0.402</td>\n",
       "      <td>202</td>\n",
       "    </tr>\n",
       "    <tr>\n",
       "      <th>7</th>\n",
       "      <td>-0.489</td>\n",
       "      <td>0.203</td>\n",
       "      <td>-0.225</td>\n",
       "      <td>201</td>\n",
       "    </tr>\n",
       "    <tr>\n",
       "      <th>8</th>\n",
       "      <td>0.080</td>\n",
       "      <td>0.171</td>\n",
       "      <td>-0.517</td>\n",
       "      <td>201</td>\n",
       "    </tr>\n",
       "    <tr>\n",
       "      <th>9</th>\n",
       "      <td>0.191</td>\n",
       "      <td>0.416</td>\n",
       "      <td>0.128</td>\n",
       "      <td>202</td>\n",
       "    </tr>\n",
       "    <tr>\n",
       "      <th>10</th>\n",
       "      <td>1.003</td>\n",
       "      <td>0.771</td>\n",
       "      <td>-1.149</td>\n",
       "      <td>201</td>\n",
       "    </tr>\n",
       "    <tr>\n",
       "      <th>11</th>\n",
       "      <td>0.246</td>\n",
       "      <td>0.342</td>\n",
       "      <td>-0.333</td>\n",
       "      <td>202</td>\n",
       "    </tr>\n",
       "    <tr>\n",
       "      <th>12</th>\n",
       "      <td>0.596</td>\n",
       "      <td>-0.875</td>\n",
       "      <td>-0.140</td>\n",
       "      <td>201</td>\n",
       "    </tr>\n",
       "    <tr>\n",
       "      <th>13</th>\n",
       "      <td>2.019</td>\n",
       "      <td>-0.441</td>\n",
       "      <td>0.305</td>\n",
       "      <td>201</td>\n",
       "    </tr>\n",
       "    <tr>\n",
       "      <th>14</th>\n",
       "      <td>2.766</td>\n",
       "      <td>-1.010</td>\n",
       "      <td>-1.072</td>\n",
       "      <td>202</td>\n",
       "    </tr>\n",
       "    <tr>\n",
       "      <th>15</th>\n",
       "      <td>3.088</td>\n",
       "      <td>-1.524</td>\n",
       "      <td>1.233</td>\n",
       "      <td>201</td>\n",
       "    </tr>\n",
       "    <tr>\n",
       "      <th>16</th>\n",
       "      <td>1.831</td>\n",
       "      <td>-0.795</td>\n",
       "      <td>0.492</td>\n",
       "      <td>202</td>\n",
       "    </tr>\n",
       "    <tr>\n",
       "      <th>17</th>\n",
       "      <td>1.215</td>\n",
       "      <td>-1.461</td>\n",
       "      <td>0.880</td>\n",
       "      <td>201</td>\n",
       "    </tr>\n",
       "    <tr>\n",
       "      <th>18</th>\n",
       "      <td>-0.116</td>\n",
       "      <td>-2.882</td>\n",
       "      <td>1.952</td>\n",
       "      <td>202</td>\n",
       "    </tr>\n",
       "    <tr>\n",
       "      <th>19</th>\n",
       "      <td>5.528</td>\n",
       "      <td>-6.462</td>\n",
       "      <td>0.626</td>\n",
       "      <td>201</td>\n",
       "    </tr>\n",
       "    <tr>\n",
       "      <th>20</th>\n",
       "      <td>7.302</td>\n",
       "      <td>-6.424</td>\n",
       "      <td>-2.750</td>\n",
       "      <td>201</td>\n",
       "    </tr>\n",
       "    <tr>\n",
       "      <th>21</th>\n",
       "      <td>5.405</td>\n",
       "      <td>-4.565</td>\n",
       "      <td>-6.946</td>\n",
       "      <td>202</td>\n",
       "    </tr>\n",
       "    <tr>\n",
       "      <th>22</th>\n",
       "      <td>6.556</td>\n",
       "      <td>-7.957</td>\n",
       "      <td>-5.915</td>\n",
       "      <td>201</td>\n",
       "    </tr>\n",
       "    <tr>\n",
       "      <th>23</th>\n",
       "      <td>2.763</td>\n",
       "      <td>-5.964</td>\n",
       "      <td>-6.230</td>\n",
       "      <td>202</td>\n",
       "    </tr>\n",
       "    <tr>\n",
       "      <th>24</th>\n",
       "      <td>0.542</td>\n",
       "      <td>-3.473</td>\n",
       "      <td>-6.234</td>\n",
       "      <td>201</td>\n",
       "    </tr>\n",
       "    <tr>\n",
       "      <th>25</th>\n",
       "      <td>4.663</td>\n",
       "      <td>-4.118</td>\n",
       "      <td>-7.157</td>\n",
       "      <td>201</td>\n",
       "    </tr>\n",
       "    <tr>\n",
       "      <th>26</th>\n",
       "      <td>3.764</td>\n",
       "      <td>-5.777</td>\n",
       "      <td>-3.602</td>\n",
       "      <td>202</td>\n",
       "    </tr>\n",
       "    <tr>\n",
       "      <th>27</th>\n",
       "      <td>1.599</td>\n",
       "      <td>-5.301</td>\n",
       "      <td>-3.877</td>\n",
       "      <td>201</td>\n",
       "    </tr>\n",
       "    <tr>\n",
       "      <th>28</th>\n",
       "      <td>1.364</td>\n",
       "      <td>-5.377</td>\n",
       "      <td>-2.271</td>\n",
       "      <td>202</td>\n",
       "    </tr>\n",
       "    <tr>\n",
       "      <th>29</th>\n",
       "      <td>0.883</td>\n",
       "      <td>-7.144</td>\n",
       "      <td>-0.273</td>\n",
       "      <td>201</td>\n",
       "    </tr>\n",
       "    <tr>\n",
       "      <th>...</th>\n",
       "      <td>...</td>\n",
       "      <td>...</td>\n",
       "      <td>...</td>\n",
       "      <td>...</td>\n",
       "    </tr>\n",
       "    <tr>\n",
       "      <th>7208</th>\n",
       "      <td>-0.003</td>\n",
       "      <td>-0.003</td>\n",
       "      <td>-0.003</td>\n",
       "      <td>201</td>\n",
       "    </tr>\n",
       "    <tr>\n",
       "      <th>7209</th>\n",
       "      <td>0.002</td>\n",
       "      <td>0.013</td>\n",
       "      <td>0.007</td>\n",
       "      <td>202</td>\n",
       "    </tr>\n",
       "    <tr>\n",
       "      <th>7210</th>\n",
       "      <td>0.002</td>\n",
       "      <td>0.012</td>\n",
       "      <td>0.001</td>\n",
       "      <td>201</td>\n",
       "    </tr>\n",
       "    <tr>\n",
       "      <th>7211</th>\n",
       "      <td>0.006</td>\n",
       "      <td>0.013</td>\n",
       "      <td>-0.004</td>\n",
       "      <td>202</td>\n",
       "    </tr>\n",
       "    <tr>\n",
       "      <th>7212</th>\n",
       "      <td>-0.004</td>\n",
       "      <td>0.013</td>\n",
       "      <td>-0.003</td>\n",
       "      <td>201</td>\n",
       "    </tr>\n",
       "    <tr>\n",
       "      <th>7213</th>\n",
       "      <td>-0.004</td>\n",
       "      <td>0.008</td>\n",
       "      <td>-0.003</td>\n",
       "      <td>201</td>\n",
       "    </tr>\n",
       "    <tr>\n",
       "      <th>7214</th>\n",
       "      <td>-0.003</td>\n",
       "      <td>0.008</td>\n",
       "      <td>0.002</td>\n",
       "      <td>202</td>\n",
       "    </tr>\n",
       "    <tr>\n",
       "      <th>7215</th>\n",
       "      <td>-0.003</td>\n",
       "      <td>-0.004</td>\n",
       "      <td>0.007</td>\n",
       "      <td>201</td>\n",
       "    </tr>\n",
       "    <tr>\n",
       "      <th>7216</th>\n",
       "      <td>0.002</td>\n",
       "      <td>-0.009</td>\n",
       "      <td>0.001</td>\n",
       "      <td>202</td>\n",
       "    </tr>\n",
       "    <tr>\n",
       "      <th>7217</th>\n",
       "      <td>0.004</td>\n",
       "      <td>-0.008</td>\n",
       "      <td>-0.004</td>\n",
       "      <td>201</td>\n",
       "    </tr>\n",
       "    <tr>\n",
       "      <th>7218</th>\n",
       "      <td>0.004</td>\n",
       "      <td>-0.007</td>\n",
       "      <td>0.000</td>\n",
       "      <td>201</td>\n",
       "    </tr>\n",
       "    <tr>\n",
       "      <th>7219</th>\n",
       "      <td>-0.004</td>\n",
       "      <td>-0.001</td>\n",
       "      <td>0.008</td>\n",
       "      <td>202</td>\n",
       "    </tr>\n",
       "    <tr>\n",
       "      <th>7220</th>\n",
       "      <td>-0.003</td>\n",
       "      <td>-0.001</td>\n",
       "      <td>0.001</td>\n",
       "      <td>201</td>\n",
       "    </tr>\n",
       "    <tr>\n",
       "      <th>7221</th>\n",
       "      <td>-0.003</td>\n",
       "      <td>-0.006</td>\n",
       "      <td>-0.004</td>\n",
       "      <td>202</td>\n",
       "    </tr>\n",
       "    <tr>\n",
       "      <th>7222</th>\n",
       "      <td>-0.003</td>\n",
       "      <td>-0.004</td>\n",
       "      <td>0.001</td>\n",
       "      <td>201</td>\n",
       "    </tr>\n",
       "    <tr>\n",
       "      <th>7223</th>\n",
       "      <td>0.002</td>\n",
       "      <td>-0.002</td>\n",
       "      <td>-0.004</td>\n",
       "      <td>202</td>\n",
       "    </tr>\n",
       "    <tr>\n",
       "      <th>7224</th>\n",
       "      <td>0.000</td>\n",
       "      <td>-0.005</td>\n",
       "      <td>-0.003</td>\n",
       "      <td>201</td>\n",
       "    </tr>\n",
       "    <tr>\n",
       "      <th>7225</th>\n",
       "      <td>0.003</td>\n",
       "      <td>-0.004</td>\n",
       "      <td>0.001</td>\n",
       "      <td>201</td>\n",
       "    </tr>\n",
       "    <tr>\n",
       "      <th>7226</th>\n",
       "      <td>0.007</td>\n",
       "      <td>-0.004</td>\n",
       "      <td>0.001</td>\n",
       "      <td>202</td>\n",
       "    </tr>\n",
       "    <tr>\n",
       "      <th>7227</th>\n",
       "      <td>0.002</td>\n",
       "      <td>-0.003</td>\n",
       "      <td>-0.003</td>\n",
       "      <td>201</td>\n",
       "    </tr>\n",
       "    <tr>\n",
       "      <th>7228</th>\n",
       "      <td>0.004</td>\n",
       "      <td>-0.003</td>\n",
       "      <td>-0.003</td>\n",
       "      <td>202</td>\n",
       "    </tr>\n",
       "    <tr>\n",
       "      <th>7229</th>\n",
       "      <td>-0.004</td>\n",
       "      <td>-0.003</td>\n",
       "      <td>-0.003</td>\n",
       "      <td>201</td>\n",
       "    </tr>\n",
       "    <tr>\n",
       "      <th>7230</th>\n",
       "      <td>-0.004</td>\n",
       "      <td>-0.002</td>\n",
       "      <td>-0.002</td>\n",
       "      <td>201</td>\n",
       "    </tr>\n",
       "    <tr>\n",
       "      <th>7231</th>\n",
       "      <td>-0.004</td>\n",
       "      <td>0.002</td>\n",
       "      <td>-0.002</td>\n",
       "      <td>202</td>\n",
       "    </tr>\n",
       "    <tr>\n",
       "      <th>7232</th>\n",
       "      <td>0.001</td>\n",
       "      <td>-0.002</td>\n",
       "      <td>-0.002</td>\n",
       "      <td>201</td>\n",
       "    </tr>\n",
       "    <tr>\n",
       "      <th>7233</th>\n",
       "      <td>-0.003</td>\n",
       "      <td>0.002</td>\n",
       "      <td>0.008</td>\n",
       "      <td>202</td>\n",
       "    </tr>\n",
       "    <tr>\n",
       "      <th>7234</th>\n",
       "      <td>0.000</td>\n",
       "      <td>0.002</td>\n",
       "      <td>-0.002</td>\n",
       "      <td>201</td>\n",
       "    </tr>\n",
       "    <tr>\n",
       "      <th>7235</th>\n",
       "      <td>0.000</td>\n",
       "      <td>-0.003</td>\n",
       "      <td>0.002</td>\n",
       "      <td>201</td>\n",
       "    </tr>\n",
       "    <tr>\n",
       "      <th>7236</th>\n",
       "      <td>0.007</td>\n",
       "      <td>-0.002</td>\n",
       "      <td>-0.002</td>\n",
       "      <td>202</td>\n",
       "    </tr>\n",
       "    <tr>\n",
       "      <th>7237</th>\n",
       "      <td>-0.003</td>\n",
       "      <td>-0.002</td>\n",
       "      <td>-0.002</td>\n",
       "      <td>201</td>\n",
       "    </tr>\n",
       "  </tbody>\n",
       "</table>\n",
       "<p>7238 rows × 4 columns</p>\n",
       "</div>"
      ],
      "text/plain": [
       "          X      Y      Z  Delta\n",
       "0     0.064 -0.121  0.120    201\n",
       "1     0.044 -0.083  0.000    201\n",
       "2     0.094 -0.256  0.257    202\n",
       "3    -0.058 -0.094  0.065    201\n",
       "4    -0.004 -0.207  0.168    202\n",
       "5    -0.110 -0.308  0.236    201\n",
       "6    -0.288 -0.183  0.402    202\n",
       "7    -0.489  0.203 -0.225    201\n",
       "8     0.080  0.171 -0.517    201\n",
       "9     0.191  0.416  0.128    202\n",
       "10    1.003  0.771 -1.149    201\n",
       "11    0.246  0.342 -0.333    202\n",
       "12    0.596 -0.875 -0.140    201\n",
       "13    2.019 -0.441  0.305    201\n",
       "14    2.766 -1.010 -1.072    202\n",
       "15    3.088 -1.524  1.233    201\n",
       "16    1.831 -0.795  0.492    202\n",
       "17    1.215 -1.461  0.880    201\n",
       "18   -0.116 -2.882  1.952    202\n",
       "19    5.528 -6.462  0.626    201\n",
       "20    7.302 -6.424 -2.750    201\n",
       "21    5.405 -4.565 -6.946    202\n",
       "22    6.556 -7.957 -5.915    201\n",
       "23    2.763 -5.964 -6.230    202\n",
       "24    0.542 -3.473 -6.234    201\n",
       "25    4.663 -4.118 -7.157    201\n",
       "26    3.764 -5.777 -3.602    202\n",
       "27    1.599 -5.301 -3.877    201\n",
       "28    1.364 -5.377 -2.271    202\n",
       "29    0.883 -7.144 -0.273    201\n",
       "...     ...    ...    ...    ...\n",
       "7208 -0.003 -0.003 -0.003    201\n",
       "7209  0.002  0.013  0.007    202\n",
       "7210  0.002  0.012  0.001    201\n",
       "7211  0.006  0.013 -0.004    202\n",
       "7212 -0.004  0.013 -0.003    201\n",
       "7213 -0.004  0.008 -0.003    201\n",
       "7214 -0.003  0.008  0.002    202\n",
       "7215 -0.003 -0.004  0.007    201\n",
       "7216  0.002 -0.009  0.001    202\n",
       "7217  0.004 -0.008 -0.004    201\n",
       "7218  0.004 -0.007  0.000    201\n",
       "7219 -0.004 -0.001  0.008    202\n",
       "7220 -0.003 -0.001  0.001    201\n",
       "7221 -0.003 -0.006 -0.004    202\n",
       "7222 -0.003 -0.004  0.001    201\n",
       "7223  0.002 -0.002 -0.004    202\n",
       "7224  0.000 -0.005 -0.003    201\n",
       "7225  0.003 -0.004  0.001    201\n",
       "7226  0.007 -0.004  0.001    202\n",
       "7227  0.002 -0.003 -0.003    201\n",
       "7228  0.004 -0.003 -0.003    202\n",
       "7229 -0.004 -0.003 -0.003    201\n",
       "7230 -0.004 -0.002 -0.002    201\n",
       "7231 -0.004  0.002 -0.002    202\n",
       "7232  0.001 -0.002 -0.002    201\n",
       "7233 -0.003  0.002  0.008    202\n",
       "7234  0.000  0.002 -0.002    201\n",
       "7235  0.000 -0.003  0.002    201\n",
       "7236  0.007 -0.002 -0.002    202\n",
       "7237 -0.003 -0.002 -0.002    201\n",
       "\n",
       "[7238 rows x 4 columns]"
      ]
     },
     "execution_count": 12,
     "metadata": {},
     "output_type": "execute_result"
    }
   ],
   "source": [
    "data['Delta']"
   ]
  },
  {
   "cell_type": "code",
   "execution_count": null,
   "metadata": {
    "collapsed": true
   },
   "outputs": [],
   "source": []
  },
  {
   "cell_type": "code",
   "execution_count": null,
   "metadata": {
    "collapsed": true
   },
   "outputs": [],
   "source": []
  },
  {
   "cell_type": "code",
   "execution_count": null,
   "metadata": {
    "collapsed": true
   },
   "outputs": [],
   "source": []
  },
  {
   "cell_type": "code",
   "execution_count": null,
   "metadata": {
    "collapsed": true
   },
   "outputs": [],
   "source": []
  },
  {
   "cell_type": "code",
   "execution_count": null,
   "metadata": {
    "collapsed": true
   },
   "outputs": [],
   "source": []
  }
 ],
 "metadata": {
  "kernelspec": {
   "display_name": "Python 2",
   "language": "python",
   "name": "python2"
  },
  "language_info": {
   "codemirror_mode": {
    "name": "ipython",
    "version": 2
   },
   "file_extension": ".py",
   "mimetype": "text/x-python",
   "name": "python",
   "nbconvert_exporter": "python",
   "pygments_lexer": "ipython2",
   "version": "2.7.8"
  },
  "widgets": {
   "state": {},
   "version": "1.1.1"
  }
 },
 "nbformat": 4,
 "nbformat_minor": 0
}
